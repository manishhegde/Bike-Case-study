{
  "nbformat": 4,
  "nbformat_minor": 0,
  "metadata": {
    "colab": {
      "name": "Untitled1.ipynb",
      "provenance": [],
      "authorship_tag": "ABX9TyPF7Du1sfu9e1KjAhwC3BSN",
      "include_colab_link": true
    },
    "kernelspec": {
      "name": "python3",
      "display_name": "Python 3"
    },
    "language_info": {
      "name": "python"
    }
  },
  "cells": [
    {
      "cell_type": "markdown",
      "metadata": {
        "id": "view-in-github",
        "colab_type": "text"
      },
      "source": [
        "<a href=\"https://colab.research.google.com/github/manishhegde/Bike-Case-study/blob/main/house_price_transors.ipynb\" target=\"_parent\"><img src=\"https://colab.research.google.com/assets/colab-badge.svg\" alt=\"Open In Colab\"/></a>"
      ]
    },
    {
      "cell_type": "code",
      "execution_count": 1,
      "metadata": {
        "id": "0f24vBAxJ7Hq"
      },
      "outputs": [],
      "source": [
        "\n",
        "import tensorflow as tf\n",
        "import pandas as pd\n",
        "import numpy as np\n",
        "from sklearn.preprocessing import StandardScaler\n",
        "from sklearn.metrics import accuracy_score"
      ]
    },
    {
      "cell_type": "code",
      "source": [
        "df= pd.read_csv('/content/house_price_full+(2).csv')\n",
        "df.head()"
      ],
      "metadata": {
        "colab": {
          "base_uri": "https://localhost:8080/",
          "height": 206
        },
        "id": "sS_Rn1cDKHQT",
        "outputId": "cdea8c19-daca-44ae-a6c9-178840432be8"
      },
      "execution_count": 5,
      "outputs": [
        {
          "output_type": "execute_result",
          "data": {
            "text/plain": [
              "   bedrooms  sqft_living    price\n",
              "0         3         1340   313000\n",
              "1         5         3650  2384000\n",
              "2         3         1930   342000\n",
              "3         3         2000   420000\n",
              "4         4         1940   550000"
            ],
            "text/html": [
              "\n",
              "  <div id=\"df-1738ce9b-a055-465b-8c8e-e4ab40a2565f\">\n",
              "    <div class=\"colab-df-container\">\n",
              "      <div>\n",
              "<style scoped>\n",
              "    .dataframe tbody tr th:only-of-type {\n",
              "        vertical-align: middle;\n",
              "    }\n",
              "\n",
              "    .dataframe tbody tr th {\n",
              "        vertical-align: top;\n",
              "    }\n",
              "\n",
              "    .dataframe thead th {\n",
              "        text-align: right;\n",
              "    }\n",
              "</style>\n",
              "<table border=\"1\" class=\"dataframe\">\n",
              "  <thead>\n",
              "    <tr style=\"text-align: right;\">\n",
              "      <th></th>\n",
              "      <th>bedrooms</th>\n",
              "      <th>sqft_living</th>\n",
              "      <th>price</th>\n",
              "    </tr>\n",
              "  </thead>\n",
              "  <tbody>\n",
              "    <tr>\n",
              "      <th>0</th>\n",
              "      <td>3</td>\n",
              "      <td>1340</td>\n",
              "      <td>313000</td>\n",
              "    </tr>\n",
              "    <tr>\n",
              "      <th>1</th>\n",
              "      <td>5</td>\n",
              "      <td>3650</td>\n",
              "      <td>2384000</td>\n",
              "    </tr>\n",
              "    <tr>\n",
              "      <th>2</th>\n",
              "      <td>3</td>\n",
              "      <td>1930</td>\n",
              "      <td>342000</td>\n",
              "    </tr>\n",
              "    <tr>\n",
              "      <th>3</th>\n",
              "      <td>3</td>\n",
              "      <td>2000</td>\n",
              "      <td>420000</td>\n",
              "    </tr>\n",
              "    <tr>\n",
              "      <th>4</th>\n",
              "      <td>4</td>\n",
              "      <td>1940</td>\n",
              "      <td>550000</td>\n",
              "    </tr>\n",
              "  </tbody>\n",
              "</table>\n",
              "</div>\n",
              "      <button class=\"colab-df-convert\" onclick=\"convertToInteractive('df-1738ce9b-a055-465b-8c8e-e4ab40a2565f')\"\n",
              "              title=\"Convert this dataframe to an interactive table.\"\n",
              "              style=\"display:none;\">\n",
              "        \n",
              "  <svg xmlns=\"http://www.w3.org/2000/svg\" height=\"24px\"viewBox=\"0 0 24 24\"\n",
              "       width=\"24px\">\n",
              "    <path d=\"M0 0h24v24H0V0z\" fill=\"none\"/>\n",
              "    <path d=\"M18.56 5.44l.94 2.06.94-2.06 2.06-.94-2.06-.94-.94-2.06-.94 2.06-2.06.94zm-11 1L8.5 8.5l.94-2.06 2.06-.94-2.06-.94L8.5 2.5l-.94 2.06-2.06.94zm10 10l.94 2.06.94-2.06 2.06-.94-2.06-.94-.94-2.06-.94 2.06-2.06.94z\"/><path d=\"M17.41 7.96l-1.37-1.37c-.4-.4-.92-.59-1.43-.59-.52 0-1.04.2-1.43.59L10.3 9.45l-7.72 7.72c-.78.78-.78 2.05 0 2.83L4 21.41c.39.39.9.59 1.41.59.51 0 1.02-.2 1.41-.59l7.78-7.78 2.81-2.81c.8-.78.8-2.07 0-2.86zM5.41 20L4 18.59l7.72-7.72 1.47 1.35L5.41 20z\"/>\n",
              "  </svg>\n",
              "      </button>\n",
              "      \n",
              "  <style>\n",
              "    .colab-df-container {\n",
              "      display:flex;\n",
              "      flex-wrap:wrap;\n",
              "      gap: 12px;\n",
              "    }\n",
              "\n",
              "    .colab-df-convert {\n",
              "      background-color: #E8F0FE;\n",
              "      border: none;\n",
              "      border-radius: 50%;\n",
              "      cursor: pointer;\n",
              "      display: none;\n",
              "      fill: #1967D2;\n",
              "      height: 32px;\n",
              "      padding: 0 0 0 0;\n",
              "      width: 32px;\n",
              "    }\n",
              "\n",
              "    .colab-df-convert:hover {\n",
              "      background-color: #E2EBFA;\n",
              "      box-shadow: 0px 1px 2px rgba(60, 64, 67, 0.3), 0px 1px 3px 1px rgba(60, 64, 67, 0.15);\n",
              "      fill: #174EA6;\n",
              "    }\n",
              "\n",
              "    [theme=dark] .colab-df-convert {\n",
              "      background-color: #3B4455;\n",
              "      fill: #D2E3FC;\n",
              "    }\n",
              "\n",
              "    [theme=dark] .colab-df-convert:hover {\n",
              "      background-color: #434B5C;\n",
              "      box-shadow: 0px 1px 3px 1px rgba(0, 0, 0, 0.15);\n",
              "      filter: drop-shadow(0px 1px 2px rgba(0, 0, 0, 0.3));\n",
              "      fill: #FFFFFF;\n",
              "    }\n",
              "  </style>\n",
              "\n",
              "      <script>\n",
              "        const buttonEl =\n",
              "          document.querySelector('#df-1738ce9b-a055-465b-8c8e-e4ab40a2565f button.colab-df-convert');\n",
              "        buttonEl.style.display =\n",
              "          google.colab.kernel.accessAllowed ? 'block' : 'none';\n",
              "\n",
              "        async function convertToInteractive(key) {\n",
              "          const element = document.querySelector('#df-1738ce9b-a055-465b-8c8e-e4ab40a2565f');\n",
              "          const dataTable =\n",
              "            await google.colab.kernel.invokeFunction('convertToInteractive',\n",
              "                                                     [key], {});\n",
              "          if (!dataTable) return;\n",
              "\n",
              "          const docLinkHtml = 'Like what you see? Visit the ' +\n",
              "            '<a target=\"_blank\" href=https://colab.research.google.com/notebooks/data_table.ipynb>data table notebook</a>'\n",
              "            + ' to learn more about interactive tables.';\n",
              "          element.innerHTML = '';\n",
              "          dataTable['output_type'] = 'display_data';\n",
              "          await google.colab.output.renderOutput(dataTable, element);\n",
              "          const docLink = document.createElement('div');\n",
              "          docLink.innerHTML = docLinkHtml;\n",
              "          element.appendChild(docLink);\n",
              "        }\n",
              "      </script>\n",
              "    </div>\n",
              "  </div>\n",
              "  "
            ]
          },
          "metadata": {},
          "execution_count": 5
        }
      ]
    },
    {
      "cell_type": "code",
      "source": [
        "X = df.copy()\n",
        "# Remove target\n",
        "Y = X.pop('price')\n",
        "\n",
        "# perform a scaler transform of the input data\n",
        "scaler = StandardScaler()\n",
        "X = scaler.fit_transform(X)\n",
        "\n",
        "# perform log transformation of target variable (For Sandeep: Is this needed?)\n",
        "Y = np.log(Y)"
      ],
      "metadata": {
        "id": "nS0dA8SuK5EA"
      },
      "execution_count": 6,
      "outputs": []
    },
    {
      "cell_type": "code",
      "source": [
        "df_scaled = pd.DataFrame(X)\n",
        "df_scaled"
      ],
      "metadata": {
        "colab": {
          "base_uri": "https://localhost:8080/",
          "height": 424
        },
        "id": "N7sUi-qgK5F_",
        "outputId": "a8b8c584-7d2c-42b8-8d7e-4383d05156ad"
      },
      "execution_count": 7,
      "outputs": [
        {
          "output_type": "execute_result",
          "data": {
            "text/plain": [
              "            0         1\n",
              "0   -0.433198 -0.753258\n",
              "1    1.675735  1.457330\n",
              "2   -0.433198 -0.188649\n",
              "3   -0.433198 -0.121661\n",
              "4    0.621269 -0.179079\n",
              "..        ...       ...\n",
              "494  0.621269  0.873582\n",
              "495  1.675735  2.299459\n",
              "496 -0.433198 -0.724549\n",
              "497 -0.433198 -0.179079\n",
              "498 -0.433198 -1.040347\n",
              "\n",
              "[499 rows x 2 columns]"
            ],
            "text/html": [
              "\n",
              "  <div id=\"df-bbc11918-f0a3-480f-a51a-fb0c15db711c\">\n",
              "    <div class=\"colab-df-container\">\n",
              "      <div>\n",
              "<style scoped>\n",
              "    .dataframe tbody tr th:only-of-type {\n",
              "        vertical-align: middle;\n",
              "    }\n",
              "\n",
              "    .dataframe tbody tr th {\n",
              "        vertical-align: top;\n",
              "    }\n",
              "\n",
              "    .dataframe thead th {\n",
              "        text-align: right;\n",
              "    }\n",
              "</style>\n",
              "<table border=\"1\" class=\"dataframe\">\n",
              "  <thead>\n",
              "    <tr style=\"text-align: right;\">\n",
              "      <th></th>\n",
              "      <th>0</th>\n",
              "      <th>1</th>\n",
              "    </tr>\n",
              "  </thead>\n",
              "  <tbody>\n",
              "    <tr>\n",
              "      <th>0</th>\n",
              "      <td>-0.433198</td>\n",
              "      <td>-0.753258</td>\n",
              "    </tr>\n",
              "    <tr>\n",
              "      <th>1</th>\n",
              "      <td>1.675735</td>\n",
              "      <td>1.457330</td>\n",
              "    </tr>\n",
              "    <tr>\n",
              "      <th>2</th>\n",
              "      <td>-0.433198</td>\n",
              "      <td>-0.188649</td>\n",
              "    </tr>\n",
              "    <tr>\n",
              "      <th>3</th>\n",
              "      <td>-0.433198</td>\n",
              "      <td>-0.121661</td>\n",
              "    </tr>\n",
              "    <tr>\n",
              "      <th>4</th>\n",
              "      <td>0.621269</td>\n",
              "      <td>-0.179079</td>\n",
              "    </tr>\n",
              "    <tr>\n",
              "      <th>...</th>\n",
              "      <td>...</td>\n",
              "      <td>...</td>\n",
              "    </tr>\n",
              "    <tr>\n",
              "      <th>494</th>\n",
              "      <td>0.621269</td>\n",
              "      <td>0.873582</td>\n",
              "    </tr>\n",
              "    <tr>\n",
              "      <th>495</th>\n",
              "      <td>1.675735</td>\n",
              "      <td>2.299459</td>\n",
              "    </tr>\n",
              "    <tr>\n",
              "      <th>496</th>\n",
              "      <td>-0.433198</td>\n",
              "      <td>-0.724549</td>\n",
              "    </tr>\n",
              "    <tr>\n",
              "      <th>497</th>\n",
              "      <td>-0.433198</td>\n",
              "      <td>-0.179079</td>\n",
              "    </tr>\n",
              "    <tr>\n",
              "      <th>498</th>\n",
              "      <td>-0.433198</td>\n",
              "      <td>-1.040347</td>\n",
              "    </tr>\n",
              "  </tbody>\n",
              "</table>\n",
              "<p>499 rows × 2 columns</p>\n",
              "</div>\n",
              "      <button class=\"colab-df-convert\" onclick=\"convertToInteractive('df-bbc11918-f0a3-480f-a51a-fb0c15db711c')\"\n",
              "              title=\"Convert this dataframe to an interactive table.\"\n",
              "              style=\"display:none;\">\n",
              "        \n",
              "  <svg xmlns=\"http://www.w3.org/2000/svg\" height=\"24px\"viewBox=\"0 0 24 24\"\n",
              "       width=\"24px\">\n",
              "    <path d=\"M0 0h24v24H0V0z\" fill=\"none\"/>\n",
              "    <path d=\"M18.56 5.44l.94 2.06.94-2.06 2.06-.94-2.06-.94-.94-2.06-.94 2.06-2.06.94zm-11 1L8.5 8.5l.94-2.06 2.06-.94-2.06-.94L8.5 2.5l-.94 2.06-2.06.94zm10 10l.94 2.06.94-2.06 2.06-.94-2.06-.94-.94-2.06-.94 2.06-2.06.94z\"/><path d=\"M17.41 7.96l-1.37-1.37c-.4-.4-.92-.59-1.43-.59-.52 0-1.04.2-1.43.59L10.3 9.45l-7.72 7.72c-.78.78-.78 2.05 0 2.83L4 21.41c.39.39.9.59 1.41.59.51 0 1.02-.2 1.41-.59l7.78-7.78 2.81-2.81c.8-.78.8-2.07 0-2.86zM5.41 20L4 18.59l7.72-7.72 1.47 1.35L5.41 20z\"/>\n",
              "  </svg>\n",
              "      </button>\n",
              "      \n",
              "  <style>\n",
              "    .colab-df-container {\n",
              "      display:flex;\n",
              "      flex-wrap:wrap;\n",
              "      gap: 12px;\n",
              "    }\n",
              "\n",
              "    .colab-df-convert {\n",
              "      background-color: #E8F0FE;\n",
              "      border: none;\n",
              "      border-radius: 50%;\n",
              "      cursor: pointer;\n",
              "      display: none;\n",
              "      fill: #1967D2;\n",
              "      height: 32px;\n",
              "      padding: 0 0 0 0;\n",
              "      width: 32px;\n",
              "    }\n",
              "\n",
              "    .colab-df-convert:hover {\n",
              "      background-color: #E2EBFA;\n",
              "      box-shadow: 0px 1px 2px rgba(60, 64, 67, 0.3), 0px 1px 3px 1px rgba(60, 64, 67, 0.15);\n",
              "      fill: #174EA6;\n",
              "    }\n",
              "\n",
              "    [theme=dark] .colab-df-convert {\n",
              "      background-color: #3B4455;\n",
              "      fill: #D2E3FC;\n",
              "    }\n",
              "\n",
              "    [theme=dark] .colab-df-convert:hover {\n",
              "      background-color: #434B5C;\n",
              "      box-shadow: 0px 1px 3px 1px rgba(0, 0, 0, 0.15);\n",
              "      filter: drop-shadow(0px 1px 2px rgba(0, 0, 0, 0.3));\n",
              "      fill: #FFFFFF;\n",
              "    }\n",
              "  </style>\n",
              "\n",
              "      <script>\n",
              "        const buttonEl =\n",
              "          document.querySelector('#df-bbc11918-f0a3-480f-a51a-fb0c15db711c button.colab-df-convert');\n",
              "        buttonEl.style.display =\n",
              "          google.colab.kernel.accessAllowed ? 'block' : 'none';\n",
              "\n",
              "        async function convertToInteractive(key) {\n",
              "          const element = document.querySelector('#df-bbc11918-f0a3-480f-a51a-fb0c15db711c');\n",
              "          const dataTable =\n",
              "            await google.colab.kernel.invokeFunction('convertToInteractive',\n",
              "                                                     [key], {});\n",
              "          if (!dataTable) return;\n",
              "\n",
              "          const docLinkHtml = 'Like what you see? Visit the ' +\n",
              "            '<a target=\"_blank\" href=https://colab.research.google.com/notebooks/data_table.ipynb>data table notebook</a>'\n",
              "            + ' to learn more about interactive tables.';\n",
              "          element.innerHTML = '';\n",
              "          dataTable['output_type'] = 'display_data';\n",
              "          await google.colab.output.renderOutput(dataTable, element);\n",
              "          const docLink = document.createElement('div');\n",
              "          docLink.innerHTML = docLinkHtml;\n",
              "          element.appendChild(docLink);\n",
              "        }\n",
              "      </script>\n",
              "    </div>\n",
              "  </div>\n",
              "  "
            ]
          },
          "metadata": {},
          "execution_count": 7
        }
      ]
    },
    {
      "cell_type": "code",
      "source": [
        "Y"
      ],
      "metadata": {
        "colab": {
          "base_uri": "https://localhost:8080/"
        },
        "id": "AY6BOaj4K5Jh",
        "outputId": "57179ff7-9828-4244-8359-fd1daac9ef37"
      },
      "execution_count": 8,
      "outputs": [
        {
          "output_type": "execute_result",
          "data": {
            "text/plain": [
              "0      12.653958\n",
              "1      14.684290\n",
              "2      12.742566\n",
              "3      12.948010\n",
              "4      13.217674\n",
              "         ...    \n",
              "494    13.380102\n",
              "495    13.764217\n",
              "496    12.128111\n",
              "497    12.721886\n",
              "498    12.254863\n",
              "Name: price, Length: 499, dtype: float64"
            ]
          },
          "metadata": {},
          "execution_count": 8
        }
      ]
    },
    {
      "cell_type": "code",
      "source": [
        "#Taking 1 sample: x0,x1\n",
        "x1, x2 = df_scaled.iloc[0]"
      ],
      "metadata": {
        "id": "fYwURY9RK5QP"
      },
      "execution_count": 9,
      "outputs": []
    },
    {
      "cell_type": "code",
      "source": [
        "x = tf.constant([[x1,x2]], dtype=tf.float32)\n",
        "x"
      ],
      "metadata": {
        "colab": {
          "base_uri": "https://localhost:8080/"
        },
        "id": "ZZO9YUKBK5S2",
        "outputId": "d9253be1-2602-48fb-cef2-6c5f1230ab57"
      },
      "execution_count": 10,
      "outputs": [
        {
          "output_type": "execute_result",
          "data": {
            "text/plain": [
              "<tf.Tensor: shape=(1, 2), dtype=float32, numpy=array([[-0.43319765, -0.7532575 ]], dtype=float32)>"
            ]
          },
          "metadata": {},
          "execution_count": 10
        }
      ]
    },
    {
      "cell_type": "code",
      "source": [
        "#weights\n",
        "w1 = tf.Variable([0.2], dtype=tf.float32)\n",
        "w2 = tf.Variable([0.15], dtype=tf.float32)\n",
        "#bias\n",
        "b = tf.Variable([0.1], dtype=tf.float32)"
      ],
      "metadata": {
        "id": "NNXi-6-mK5V-"
      },
      "execution_count": 11,
      "outputs": []
    },
    {
      "cell_type": "code",
      "source": [
        "#Cumulative input\n",
        "z = b + w1*x1 +w2*x2\n",
        "h = tf.math.sigmoid(z)\n",
        "print(\"The output from the first neuron is\",h)"
      ],
      "metadata": {
        "colab": {
          "base_uri": "https://localhost:8080/"
        },
        "id": "tErqvuRcLZT-",
        "outputId": "7ca60a8f-79e9-4840-97fd-21def3768a50"
      },
      "execution_count": 12,
      "outputs": [
        {
          "output_type": "stream",
          "name": "stdout",
          "text": [
            "The output from the first neuron is tf.Tensor([0.47511354], shape=(1,), dtype=float32)\n"
          ]
        }
      ]
    },
    {
      "cell_type": "code",
      "source": [
        "## layer1 weights\n",
        "# neuron1\n",
        "b1 = tf.Variable([0.1])\n",
        "w11 = tf.Variable([0.2])\n",
        "w12 = tf.Variable([0.15])\n",
        "#neuron2\n",
        "b2 = tf.Variable([0.25])\n",
        "w21 = tf.Variable([0.5])\n",
        "w22 = tf.Variable([0.6])"
      ],
      "metadata": {
        "id": "NEYfOFOILZXe"
      },
      "execution_count": 13,
      "outputs": []
    },
    {
      "cell_type": "code",
      "source": [
        "## forward pass\n",
        "# neuron 1\n",
        "z1 = b1+w11*x1+w12*x2\n",
        "h1 = tf.math.sigmoid(z1)\n",
        "print(\"The output from the first neuron is\",h1)"
      ],
      "metadata": {
        "colab": {
          "base_uri": "https://localhost:8080/"
        },
        "id": "KHrzt66_LZf0",
        "outputId": "11f65ab2-9e31-4e59-9dea-01938a0cb839"
      },
      "execution_count": 14,
      "outputs": [
        {
          "output_type": "stream",
          "name": "stdout",
          "text": [
            "The output from the first neuron is tf.Tensor([0.47511354], shape=(1,), dtype=float32)\n"
          ]
        }
      ]
    },
    {
      "cell_type": "code",
      "source": [
        "## forward pass\n",
        "# neuron 2\n",
        "z2 = b2+w21*x1+w22*x2\n",
        "h2 = tf.math.sigmoid(z2)\n",
        "print(\"The output from the second neuron is\",h2)"
      ],
      "metadata": {
        "colab": {
          "base_uri": "https://localhost:8080/"
        },
        "id": "dHRu0mHILZiE",
        "outputId": "a84b9d4f-1766-4242-bee5-ff212c9971d6"
      },
      "execution_count": 15,
      "outputs": [
        {
          "output_type": "stream",
          "name": "stdout",
          "text": [
            "The output from the second neuron is tf.Tensor([0.39686298], shape=(1,), dtype=float32)\n"
          ]
        }
      ]
    },
    {
      "cell_type": "code",
      "source": [
        "## layer2 weights\n",
        "b1 = tf.Variable([0.4])\n",
        "w11 = tf.Variable([0.3])\n",
        "w12 = tf.Variable([0.2])"
      ],
      "metadata": {
        "id": "mQTKr-pTLZkl"
      },
      "execution_count": 16,
      "outputs": []
    },
    {
      "cell_type": "code",
      "source": [
        "## forward pass\n",
        "# second layer\n",
        "z1 = b1+w11*h1+w12*h2\n",
        "h1 = z1\n",
        "print(\"The output from the first neuron is\",h1)"
      ],
      "metadata": {
        "colab": {
          "base_uri": "https://localhost:8080/"
        },
        "id": "l64hBOXULZoA",
        "outputId": "c0b8d2c3-bc91-4394-9c69-59e67b3a8275"
      },
      "execution_count": 17,
      "outputs": [
        {
          "output_type": "stream",
          "name": "stdout",
          "text": [
            "The output from the first neuron is tf.Tensor([0.62190664], shape=(1,), dtype=float32)\n"
          ]
        }
      ]
    },
    {
      "cell_type": "code",
      "source": [
        "y_true = Y[0]\n",
        "y_pred = h1.numpy()"
      ],
      "metadata": {
        "id": "KCQLRK9rL3iG"
      },
      "execution_count": 18,
      "outputs": []
    },
    {
      "cell_type": "code",
      "source": [
        "#loss\n",
        "L = 0.5*(y_true - y_pred)**2\n",
        "print(\"The MSE error is\",L)"
      ],
      "metadata": {
        "colab": {
          "base_uri": "https://localhost:8080/"
        },
        "id": "DkA1o8LwL3lj",
        "outputId": "0ebe9e96-b142-426d-b559-c82c1061679e"
      },
      "execution_count": 19,
      "outputs": [
        {
          "output_type": "stream",
          "name": "stdout",
          "text": [
            "The MSE error is [72.38514]\n"
          ]
        }
      ]
    },
    {
      "cell_type": "code",
      "source": [
        "## layer 1 weights\n",
        "W1 = tf.Variable([[0.2, 0.15],\n",
        "                     [0.5, 0.6]], dtype=tf.float32)\n",
        "## layer 1 bias\n",
        "B1 = tf.Variable([[0.1],\n",
        "                [0.25]], dtype=tf.float32)"
      ],
      "metadata": {
        "id": "QGo7z0iDL3w8"
      },
      "execution_count": 20,
      "outputs": []
    },
    {
      "cell_type": "code",
      "source": [
        "## layer 2 weights\n",
        "W2 = tf.Variable([[0.3, 0.2]], dtype=tf.float32)\n",
        "#bias\n",
        "B2 = tf.Variable([0.4], dtype=tf.float32)"
      ],
      "metadata": {
        "id": "CQszfwt8L31l"
      },
      "execution_count": 21,
      "outputs": []
    },
    {
      "cell_type": "code",
      "source": [
        "## data\n",
        "X = tf.constant([[x1,x2]], dtype=tf.float32)"
      ],
      "metadata": {
        "id": "mv_UiELjL34o"
      },
      "execution_count": 22,
      "outputs": []
    },
    {
      "cell_type": "code",
      "source": [
        "## forward pass layer 1\n",
        "Z1 = tf.matmul(W1, tf.transpose(X)) + B1\n",
        "H1 = tf.math.sigmoid(Z1)\n",
        "print(H1)"
      ],
      "metadata": {
        "colab": {
          "base_uri": "https://localhost:8080/"
        },
        "id": "R35l-WIpMR8A",
        "outputId": "a93fea15-6d00-409b-d42e-4501970deabb"
      },
      "execution_count": 23,
      "outputs": [
        {
          "output_type": "stream",
          "name": "stdout",
          "text": [
            "tf.Tensor(\n",
            "[[0.47511354]\n",
            " [0.39686298]], shape=(2, 1), dtype=float32)\n"
          ]
        }
      ]
    },
    {
      "cell_type": "code",
      "source": [
        "## forward pass layer 2\n",
        "Z2 = tf.matmul(W2,H1)+B2"
      ],
      "metadata": {
        "id": "Xqi7_LwFMR_r"
      },
      "execution_count": 24,
      "outputs": []
    },
    {
      "cell_type": "code",
      "source": [
        "Z2\n"
      ],
      "metadata": {
        "colab": {
          "base_uri": "https://localhost:8080/"
        },
        "id": "3rmWHU6CMSDP",
        "outputId": "7a581212-ff89-448a-ffb9-7d6c4e6b4a42"
      },
      "execution_count": 25,
      "outputs": [
        {
          "output_type": "execute_result",
          "data": {
            "text/plain": [
              "<tf.Tensor: shape=(1, 1), dtype=float32, numpy=array([[0.62190664]], dtype=float32)>"
            ]
          },
          "metadata": {},
          "execution_count": 25
        }
      ]
    },
    {
      "cell_type": "code",
      "source": [
        "y_pred = Z2.numpy()\n",
        "loss = 0.5*(y_true-y_pred)**2\n",
        "print(loss)"
      ],
      "metadata": {
        "colab": {
          "base_uri": "https://localhost:8080/"
        },
        "id": "H_H9nRixMSFr",
        "outputId": "0bc0e3ac-746f-4b24-d52b-837c1a2c18e3"
      },
      "execution_count": 26,
      "outputs": [
        {
          "output_type": "stream",
          "name": "stdout",
          "text": [
            "[[72.38514]]\n"
          ]
        }
      ]
    },
    {
      "cell_type": "code",
      "source": [
        "def random_init_params():\n",
        "    w1 = tf.Variable(tf.random.uniform((2, 2)))\n",
        "    b1 = tf.Variable(tf.random.uniform((1, 2)))\n",
        "    w2 = tf.Variable(tf.random.uniform((2, 1)))\n",
        "    b2 = tf.Variable(tf.random.uniform((1, 1)))\n",
        "    return w1,b1,w2,b2"
      ],
      "metadata": {
        "id": "zRFxnU9gMSJE"
      },
      "execution_count": 27,
      "outputs": []
    },
    {
      "cell_type": "code",
      "source": [
        "x = tf.constant([[x1,x2]], dtype=tf.float32)\n",
        "y = Y[0]\n",
        "w1,b1,w2,b2 = random_init_params()"
      ],
      "metadata": {
        "id": "jvAHKtXGMSMU"
      },
      "execution_count": 28,
      "outputs": []
    },
    {
      "cell_type": "code",
      "source": [
        "print(\" the initial 1st layer weights are:\\n\",w1.numpy())\n",
        "print(\"--------------------------------------------------\")\n",
        "print(\" the initial 2nd layer weights are:\\n\",w2.numpy())\n",
        "print(\"--------------------------------------------------\")\n",
        "print(\" the initial 1st layer bias are:\\n\",b1.numpy())\n",
        "print(\"--------------------------------------------------\")\n",
        "print(\" the initial 2nd layer bias are:\\n\",b2.numpy())"
      ],
      "metadata": {
        "colab": {
          "base_uri": "https://localhost:8080/"
        },
        "id": "-dgJREOUMtxI",
        "outputId": "5557b559-a7a6-4342-c5b9-3f80daa9af64"
      },
      "execution_count": 29,
      "outputs": [
        {
          "output_type": "stream",
          "name": "stdout",
          "text": [
            " the initial 1st layer weights are:\n",
            " [[0.42173088 0.8742763 ]\n",
            " [0.52026093 0.8608177 ]]\n",
            "--------------------------------------------------\n",
            " the initial 2nd layer weights are:\n",
            " [[0.10926247]\n",
            " [0.33330846]]\n",
            "--------------------------------------------------\n",
            " the initial 1st layer bias are:\n",
            " [[0.16138673 0.39051878]]\n",
            "--------------------------------------------------\n",
            " the initial 2nd layer bias are:\n",
            " [[0.6156781]]\n"
          ]
        }
      ]
    },
    {
      "cell_type": "code",
      "source": [
        "def forward_prop(x, w1, b1, w2, b2):\n",
        "    z1 = tf.matmul(x,w1) + b1\n",
        "    h1 = tf.math.sigmoid(z1)\n",
        "    z2 = tf.matmul(h1,w2) + b2\n",
        "    h2 = z2\n",
        "    return h2"
      ],
      "metadata": {
        "id": "sdPFNdrDMt0t"
      },
      "execution_count": 30,
      "outputs": []
    },
    {
      "cell_type": "code",
      "source": [
        "y_pred = forward_prop(x, w1, b1, w2, b2)\n",
        "#loss\n",
        "L = 0.5*(y - y_pred)**2\n",
        "print(\"The MSE error is\",L)"
      ],
      "metadata": {
        "colab": {
          "base_uri": "https://localhost:8080/"
        },
        "id": "ktc7K19JMt9U",
        "outputId": "2337570c-0e93-47b9-d519-f62cb98246d8"
      },
      "execution_count": 31,
      "outputs": [
        {
          "output_type": "stream",
          "name": "stdout",
          "text": [
            "The MSE error is tf.Tensor([[70.56068]], shape=(1, 1), dtype=float32)\n"
          ]
        }
      ]
    },
    {
      "cell_type": "code",
      "source": [
        "x = tf.Variable(0.0) ## add gradient tape\n",
        "lr = eta = 0.1"
      ],
      "metadata": {
        "id": "ngi6wyz-Mt_Y"
      },
      "execution_count": 32,
      "outputs": []
    },
    {
      "cell_type": "code",
      "source": [
        "with tf.GradientTape() as tape:\n",
        "    y = x**2+4*x\n",
        "grad = tape.gradient(y,x) ## dy/dx"
      ],
      "metadata": {
        "id": "uvwfaNmBMuCz"
      },
      "execution_count": 33,
      "outputs": []
    },
    {
      "cell_type": "code",
      "source": [
        "grad.numpy() #dy/dx = 2x+4, x=0 => dy/dx = 4"
      ],
      "metadata": {
        "colab": {
          "base_uri": "https://localhost:8080/"
        },
        "id": "Ci1I2FWdNDyb",
        "outputId": "51c834b3-07e3-49bb-87dd-55164372adce"
      },
      "execution_count": 34,
      "outputs": [
        {
          "output_type": "execute_result",
          "data": {
            "text/plain": [
              "4.0"
            ]
          },
          "metadata": {},
          "execution_count": 34
        }
      ]
    },
    {
      "cell_type": "code",
      "source": [
        "x.assign_sub(lr*grad) ## x_new = x_old -lr*dy/dx"
      ],
      "metadata": {
        "id": "QjSXj70ZND-m"
      },
      "execution_count": null,
      "outputs": []
    },
    {
      "cell_type": "code",
      "source": [
        "x.numpy()"
      ],
      "metadata": {
        "colab": {
          "base_uri": "https://localhost:8080/"
        },
        "id": "GBr7bKmZNEAi",
        "outputId": "bcf90e57-622c-4ae4-f8e6-b322b6bbd3a1"
      },
      "execution_count": 35,
      "outputs": [
        {
          "output_type": "execute_result",
          "data": {
            "text/plain": [
              "0.0"
            ]
          },
          "metadata": {},
          "execution_count": 35
        }
      ]
    },
    {
      "cell_type": "code",
      "source": [
        "## full loop\n",
        "x = tf.Variable(0.0) ## add gradient tape\n",
        "lr = eta = 0.1\n",
        "for i in range(10):\n",
        "    with tf.GradientTape() as tape:\n",
        "        y = x**2+4*x\n",
        "    grad = tape.gradient(y,x)\n",
        "    x.assign_sub(lr*grad)\n",
        "    print(x.numpy())"
      ],
      "metadata": {
        "colab": {
          "base_uri": "https://localhost:8080/"
        },
        "id": "njSSKPKlNEC5",
        "outputId": "17996f15-b5d2-4060-bd7b-fc57f6f92b2b"
      },
      "execution_count": 36,
      "outputs": [
        {
          "output_type": "stream",
          "name": "stdout",
          "text": [
            "-0.4\n",
            "-0.72\n",
            "-0.9760001\n",
            "-1.1808001\n",
            "-1.34464\n",
            "-1.4757121\n",
            "-1.5805696\n",
            "-1.6644557\n",
            "-1.7315645\n",
            "-1.7852516\n"
          ]
        }
      ]
    },
    {
      "cell_type": "code",
      "source": [
        "x = tf.constant([[x1,x2]], dtype=tf.float32)\n",
        "y = Y[0]\n",
        "\n",
        "def random_init_params():\n",
        "    w1 = tf.Variable(tf.random.uniform((2, 2)))\n",
        "    b1 = tf.Variable(tf.random.uniform((1, 2)))\n",
        "    w2 = tf.Variable(tf.random.uniform((2, 1)))\n",
        "    b2 = tf.Variable(tf.random.uniform((1, 1)))\n",
        "    return w1,b1,w2,b2\n",
        "\n",
        "def forward_prop(x, w1, b1, w2, b2):\n",
        "    z1 = tf.matmul(x,w1) + b1\n",
        "    h1 = tf.math.sigmoid(z1)\n",
        "    z2 = tf.matmul(h1,w2) + b2\n",
        "    h2 = z2\n",
        "    return h2"
      ],
      "metadata": {
        "id": "Ff66XYhdNEGe"
      },
      "execution_count": 37,
      "outputs": []
    },
    {
      "cell_type": "code",
      "source": [
        "w1,b1,w2,b2 = random_init_params()"
      ],
      "metadata": {
        "id": "2Fj5SiS_NY-J"
      },
      "execution_count": 38,
      "outputs": []
    },
    {
      "cell_type": "code",
      "source": [
        "with tf.GradientTape() as tape:\n",
        "    y_pred = forward_prop(x,w1,b1,w2,b2)\n",
        "    loss = 0.5*(y-y_pred)**2"
      ],
      "metadata": {
        "id": "-mofDsX6NZBe"
      },
      "execution_count": 39,
      "outputs": []
    },
    {
      "cell_type": "code",
      "source": [
        "gw1, gb1, gw2, gb2 = tape.gradient(loss, [w1, b1, w2, b2])"
      ],
      "metadata": {
        "id": "RYNhNtMcNZGe"
      },
      "execution_count": 40,
      "outputs": []
    },
    {
      "cell_type": "code",
      "source": [
        "gw1"
      ],
      "metadata": {
        "colab": {
          "base_uri": "https://localhost:8080/"
        },
        "id": "ie_iTsLVNZJA",
        "outputId": "c7d689f0-3a57-4ad4-dbfe-dc4fae2a1af3"
      },
      "execution_count": 41,
      "outputs": [
        {
          "output_type": "execute_result",
          "data": {
            "text/plain": [
              "<tf.Tensor: shape=(2, 2), dtype=float32, numpy=\n",
              "array([[0.91615397, 0.0603701 ],\n",
              "       [1.5930369 , 0.10497341]], dtype=float32)>"
            ]
          },
          "metadata": {},
          "execution_count": 41
        }
      ]
    },
    {
      "cell_type": "code",
      "source": [
        "gb1"
      ],
      "metadata": {
        "colab": {
          "base_uri": "https://localhost:8080/"
        },
        "id": "9i3nF2sKNZLV",
        "outputId": "a969cfd2-b97f-4f0c-b888-0052559dcd3e"
      },
      "execution_count": 42,
      "outputs": [
        {
          "output_type": "execute_result",
          "data": {
            "text/plain": [
              "<tf.Tensor: shape=(1, 2), dtype=float32, numpy=array([[-2.1148636 , -0.13935925]], dtype=float32)>"
            ]
          },
          "metadata": {},
          "execution_count": 42
        }
      ]
    },
    {
      "cell_type": "code",
      "source": [
        "gw2"
      ],
      "metadata": {
        "colab": {
          "base_uri": "https://localhost:8080/"
        },
        "id": "NM-injF9NZNt",
        "outputId": "1d626af2-874f-449f-b47a-95afcc2d1c54"
      },
      "execution_count": 43,
      "outputs": [
        {
          "output_type": "execute_result",
          "data": {
            "text/plain": [
              "<tf.Tensor: shape=(2, 1), dtype=float32, numpy=\n",
              "array([[-4.845791],\n",
              "       [-6.177396]], dtype=float32)>"
            ]
          },
          "metadata": {},
          "execution_count": 43
        }
      ]
    },
    {
      "cell_type": "code",
      "source": [
        "gb2\n"
      ],
      "metadata": {
        "colab": {
          "base_uri": "https://localhost:8080/"
        },
        "id": "BpUHU5__NZRJ",
        "outputId": "6c33ac3b-2d48-4640-c18e-47476a0faffe"
      },
      "execution_count": 44,
      "outputs": [
        {
          "output_type": "execute_result",
          "data": {
            "text/plain": [
              "<tf.Tensor: shape=(1, 1), dtype=float32, numpy=array([[-11.897734]], dtype=float32)>"
            ]
          },
          "metadata": {},
          "execution_count": 44
        }
      ]
    },
    {
      "cell_type": "code",
      "source": [
        "lr=0.01\n",
        "print(f\"Value of w1 before gradient update is {w1}\")\n",
        "w1.assign_sub(lr*gw1)\n",
        "print(f\"Value of w1 after gradient update is {w1}\")"
      ],
      "metadata": {
        "colab": {
          "base_uri": "https://localhost:8080/"
        },
        "id": "1FXg32hlNwj-",
        "outputId": "36d20b1b-f11d-490d-9c36-2df314b6e85d"
      },
      "execution_count": 46,
      "outputs": [
        {
          "output_type": "stream",
          "name": "stdout",
          "text": [
            "Value of w1 before gradient update is <tf.Variable 'Variable:0' shape=(2, 2) dtype=float32, numpy=\n",
            "array([[0.35230267, 0.8693981 ],\n",
            "       [0.5514364 , 0.06832063]], dtype=float32)>\n",
            "Value of w1 after gradient update is <tf.Variable 'Variable:0' shape=(2, 2) dtype=float32, numpy=\n",
            "array([[0.34314114, 0.86879444],\n",
            "       [0.53550607, 0.0672709 ]], dtype=float32)>\n"
          ]
        }
      ]
    },
    {
      "cell_type": "code",
      "source": [
        "lr=0.01\n",
        "print(f\"Value of b1 before gradient update is {b1}\")\n",
        "b1.assign_sub(lr*gb1)\n",
        "print(f\"Value of w1 after gradient update is {b1}\")"
      ],
      "metadata": {
        "colab": {
          "base_uri": "https://localhost:8080/"
        },
        "id": "gq8TcyPGNwmR",
        "outputId": "76744fee-7813-485d-aeed-6499f96dc293"
      },
      "execution_count": 47,
      "outputs": [
        {
          "output_type": "stream",
          "name": "stdout",
          "text": [
            "Value of b1 before gradient update is <tf.Variable 'Variable:0' shape=(1, 2) dtype=float32, numpy=array([[0.19279754, 0.50495327]], dtype=float32)>\n",
            "Value of w1 after gradient update is <tf.Variable 'Variable:0' shape=(1, 2) dtype=float32, numpy=array([[0.21394618, 0.5063469 ]], dtype=float32)>\n"
          ]
        }
      ]
    },
    {
      "cell_type": "code",
      "source": [
        "def train(x, y, w1, b1, w2, b2):\n",
        "    y_true = y\n",
        "    with tf.GradientTape() as g:\n",
        "        y_pred = forward_prop(x, w1, b1, w2, b2)\n",
        "\n",
        "        # loss\n",
        "        loss = 0.5*(y_true - y_pred)** 2\n",
        "    \n",
        "    #Gradient calculation  \n",
        "    print(\"**************************************************\")\n",
        "    print(\"GRADIENTS\")\n",
        "    print(\"**************************************************\")\n",
        "    gw1, gb1, gw2, gb2 = g.gradient(loss, [w1, b1, w2, b2])\n",
        "    print(\" the gradient for 1st layer weights are:\\n\",gw1.numpy())\n",
        "    print(\"--------------------------------------------------\")\n",
        "    print(\" the gradient for 2nd layer weights are:\\n\",gw2.numpy())\n",
        "    print(\"--------------------------------------------------\")\n",
        "    print(\" the gradient for 1st layer bias are:\\n\",gb1.numpy())\n",
        "    print(\"--------------------------------------------------\")\n",
        "    print(\" the gradient for 2nd layer bias are:\\n\",gb2.numpy())\n",
        "    print(\"--------------------------------------------------\")\n",
        "\n",
        "    # Gradient descent:\n",
        "    lr=0.2\n",
        "    w1.assign_sub(lr*gw1)\n",
        "    b1.assign_sub(lr*gb1) \n",
        "    w2.assign_sub(lr*gw2)\n",
        "    b2.assign_sub(lr*gb2)\n",
        "    print(\"**************************************************\")\n",
        "    print(\"NEW UPDATES\")\n",
        "    print(\"**************************************************\")\n",
        "    print(\" the updated 1st layer weights are:\\n\",w1.numpy())\n",
        "    print(\"--------------------------------------------------\")\n",
        "    print(\" the updated 2nd layer weights are:\\n\",w2.numpy())\n",
        "    print(\"--------------------------------------------------\")\n",
        "    print(\" the updated 1st layer bias are:\\n\",b1.numpy())\n",
        "    print(\"--------------------------------------------------\")\n",
        "    print(\" the updated 2nd layer bias are:\\n\",b2.numpy())\n",
        "\n",
        "\n",
        "    return w1, b1, w2, b2,loss"
      ],
      "metadata": {
        "id": "HNJluL1lNwo3"
      },
      "execution_count": 48,
      "outputs": []
    },
    {
      "cell_type": "code",
      "source": [
        "w1,b1,w2,b2 = random_init_params()\n",
        "w1, b1, w2, b2,loss = train(x, y, w1, b1, w2, b2)"
      ],
      "metadata": {
        "colab": {
          "base_uri": "https://localhost:8080/"
        },
        "id": "axjbqOeJNwq_",
        "outputId": "a306c8c8-028b-492a-ed94-10de6ca38934"
      },
      "execution_count": 49,
      "outputs": [
        {
          "output_type": "stream",
          "name": "stdout",
          "text": [
            "**************************************************\n",
            "GRADIENTS\n",
            "**************************************************\n",
            " the gradient for 1st layer weights are:\n",
            " [[0.05034444 0.58845335]\n",
            " [0.08754047 1.0232209 ]]\n",
            "--------------------------------------------------\n",
            " the gradient for 2nd layer weights are:\n",
            " [[-7.082007]\n",
            " [-4.810186]]\n",
            "--------------------------------------------------\n",
            " the gradient for 1st layer bias are:\n",
            " [[-0.11621586 -1.3583946 ]]\n",
            "--------------------------------------------------\n",
            " the gradient for 2nd layer bias are:\n",
            " [[-11.759512]]\n",
            "--------------------------------------------------\n",
            "**************************************************\n",
            "NEW UPDATES\n",
            "**************************************************\n",
            " the updated 1st layer weights are:\n",
            " [[ 0.05355204  0.5384011 ]\n",
            " [ 0.61012334 -0.08125304]]\n",
            "--------------------------------------------------\n",
            " the updated 2nd layer weights are:\n",
            " [[1.4576571]\n",
            " [1.4399083]]\n",
            "--------------------------------------------------\n",
            " the updated 1st layer bias are:\n",
            " [[0.93836415 0.28093266]]\n",
            "--------------------------------------------------\n",
            " the updated 2nd layer bias are:\n",
            " [[3.0260315]]\n"
          ]
        }
      ]
    },
    {
      "cell_type": "code",
      "source": [],
      "metadata": {
        "id": "T-yDdCmkNwtX"
      },
      "execution_count": null,
      "outputs": []
    },
    {
      "cell_type": "code",
      "source": [],
      "metadata": {
        "id": "AwZJ-AQeNwvS"
      },
      "execution_count": null,
      "outputs": []
    },
    {
      "cell_type": "code",
      "source": [],
      "metadata": {
        "id": "XKDGmKMRNwxx"
      },
      "execution_count": null,
      "outputs": []
    },
    {
      "cell_type": "code",
      "source": [],
      "metadata": {
        "id": "rM-hZ6caNw09"
      },
      "execution_count": null,
      "outputs": []
    }
  ]
}